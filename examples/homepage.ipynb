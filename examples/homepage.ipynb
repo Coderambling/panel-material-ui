{
 "cells": [
  {
   "cell_type": "code",
   "execution_count": null,
   "id": "66d034ba-c137-4364-8927-fe16f093ec39",
   "metadata": {
    "tags": [
     "hide-input"
    ]
   },
   "outputs": [],
   "source": [
    "import panel as pn\n",
    "import panel_material_ui as pmui\n",
    "\n",
    "pn.extension(inline=False)"
   ]
  },
  {
   "cell_type": "code",
   "execution_count": null,
   "id": "a04ca5af-c595-4c37-a66f-3c5997fe7e69",
   "metadata": {
    "tags": [
     "hide-input"
    ]
   },
   "outputs": [],
   "source": [
    "color = pmui.RadioBoxGroup(options=pmui.COLORS, inline=True, value='primary')\n",
    "\n",
    "menu_items = [\n",
    "    {\"label\": \"Home\", \"icon\": \"home\"},\n",
    "    {\"label\": \"Catalog\", \"icon\": \"category\"},\n",
    "    {\"label\": \"Checkout\", \"icon\": \"shopping_cart\"},\n",
    "]\n",
    "\n",
    "pmui.Paper(\n",
    "    pmui.Row(\n",
    "        pmui.Typography('Component Overview', variant='h4'),\n",
    "        color,\n",
    "        pmui.ThemeToggle(styles={'margin-left': 'auto'}),\n",
    "        sizing_mode='stretch_width'\n",
    "    ),\n",
    "    pmui.Accordion(\n",
    "        ('Widgets', pn.FlexBox(\n",
    "            pmui.Column(\n",
    "                pmui.Typography('Sliders', variant='h6'),\n",
    "                pmui.FloatSlider(label='FloatSlider', value=42.314, color=color),\n",
    "                pmui.DateSlider(label='DateSlider', color=color),\n",
    "                pmui.EditableFloatSlider(label='EditableSlider', color=color, value=42.31),\n",
    "                pmui.RangeSlider(label='RangeSlider', color=color, value=(13, 42))\n",
    "            ),\n",
    "            pmui.Column(\n",
    "                pmui.Typography('Select', variant='h6'),\n",
    "                pmui.Select(label='Select', options=pmui.COLORS, color=color, value='primary'),\n",
    "                pmui.MultiChoice(label='MultiChoice', options=pmui.COLORS, color=color, value=['primary']),\n",
    "                pmui.MultiSelect(label='MultiSelect', color=color, options=pmui.COLORS, value=['primary'])\n",
    "            ),\n",
    "            pmui.Column(\n",
    "                pmui.Typography('Text', variant='h6'),\n",
    "                pmui.TextInput(label='TextInput', color=color, value='My Text'),\n",
    "                pmui.PasswordInput(label='PasswordInput', color=color, value='mysupersecretpassword'),\n",
    "                pmui.TextAreaInput(label='TextArea', color=color, value='1. Default\\n2. Primary\\n3. Secondary', rows=4)\n",
    "            ),\n",
    "            pmui.Column(\n",
    "                pmui.Typography('Date & Time', variant='h6'),\n",
    "                pmui.DatePicker(label='DatePicker', color=color),\n",
    "                pmui.DatetimePicker(label='DatetimePicker', color=color),\n",
    "                pmui.TimePicker(label='TimePicker', color=color)\n",
    "            ),\n",
    "            pmui.Column(\n",
    "                pmui.Typography('Buttons', variant='h6'),\n",
    "                pmui.Row(\n",
    "                    pmui.Button(label='Button', color=color, icon='home'),\n",
    "                    pmui.Button(label='Button', color=color, icon='home', variant='outlined')\n",
    "                ),\n",
    "                pmui.Row(\n",
    "                    pmui.Fab(label='Fab', color=color, icon='home', variant='circular'),\n",
    "                    pmui.Fab(label='Fab', color=color, icon='home', variant='extended')\n",
    "                ),\n",
    "                pmui.Row(\n",
    "                    pmui.FileInput(label='FileInput', color=color),\n",
    "                    pmui.FileInput(label='FileInput', color=color, variant='outlined')\n",
    "                )\n",
    "            ),\n",
    "            pmui.Column(\n",
    "                pmui.Typography('Menus', variant='h6'),\n",
    "                pmui.Breadcrumbs(color=color, items=menu_items),\n",
    "                pmui.List(color=color, items=menu_items),\n",
    "                pmui.SpeedDial(color=color, items=menu_items),\n",
    "            )\n",
    "        )),\n",
    "        sizing_mode='stretch_both',\n",
    "        active=[0]\n",
    "    ),\n",
    "    margin=5,\n",
    "    sizing_mode=\"stretch_both\"\n",
    ").preview(sizing_mode=\"stretch_width\", height=600)"
   ]
  }
 ],
 "metadata": {
  "kernelspec": {
   "display_name": "Python 3 (ipykernel)",
   "language": "python",
   "name": "python3"
  },
  "language_info": {
   "codemirror_mode": {
    "name": "ipython",
    "version": 3
   },
   "file_extension": ".py",
   "mimetype": "text/x-python",
   "name": "python",
   "nbconvert_exporter": "python",
   "pygments_lexer": "ipython3",
   "version": "3.12.2"
  }
 },
 "nbformat": 4,
 "nbformat_minor": 5
}
