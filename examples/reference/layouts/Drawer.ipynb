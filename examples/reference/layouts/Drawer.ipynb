{
 "cells": [
  {
   "cell_type": "markdown",
   "metadata": {},
   "source": [
    "The navigation `Drawer` (or \"sidebars\") provide ergonomic access to destinations in a site or app functionality such as switching accounts"
   ]
  },
  {
   "cell_type": "code",
   "execution_count": null,
   "metadata": {},
   "outputs": [],
   "source": [
    "import panel as pn\n",
    "import panel_material_ui as pmu\n",
    "from panel_material_ui import Drawer, Alert\n",
    "import param\n",
    "\n",
    "pn.extension()"
   ]
  },
  {
   "cell_type": "markdown",
   "metadata": {},
   "source": [
    "## API\n",
    "\n",
    "The `Drawer` is built on top of the [Material UI `Drawer`](https://mui.com/material-ui/react-drawer/) and mimics its API.\n",
    "\n",
    "### Parameters\n",
    "\n",
    "For details on other parameters for customizing the component see the [customization guides](https://panel-material-ui.holoviz.org/customization/index.html).\n",
    "\n",
    "#### Core\n",
    "\n",
    "- **`objects`**: Positional arguments to view.\n",
    "- **`anchor`** (str): Specifies which side of the screen the `Drawer` should originate from. One of `left` (default), `right`, `top` or `bottom`.\n",
    "- **`variant`** (str): How to display the drawer. One of `temporary` (default) or `persistent`.\n",
    "\n",
    "#### Styling\n",
    "\n",
    "- **`sx`** (dict): Component‑level styling API.\n",
    "- **`theme_config`** (dict): Theming API.\n",
    "\n",
    "___"
   ]
  },
  {
   "cell_type": "markdown",
   "metadata": {},
   "source": [
    "## Temporary Drawer"
   ]
  },
  {
   "cell_type": "code",
   "execution_count": null,
   "metadata": {},
   "outputs": [],
   "source": [
    "drawer = Drawer(pmu.Divider(sizing_mode=\"stretch_width\"), \"## Settings\", pmu.FloatSlider(name=\"Value\", value=4, color=\"primary\"))\n",
    "\n",
    "def open_drawer(event):\n",
    "    drawer.open = True\n",
    "\n",
    "open_button = pmu.Button(name=\"Open Drawer\", on_click=open_drawer, margin=(20,5,10,5), color=\"primary\", variant=\"outlined\")\n",
    "\n",
    "def close_drawer(event):\n",
    "    drawer.open = False\n",
    "\n",
    "close_button = pmu.Button(name=\"Close Drawer\", on_click=close_drawer, width=300, color=\"primary\")\n",
    "drawer.insert(0, close_button)\n",
    "\n",
    "pn.Column(drawer, open_button)"
   ]
  },
  {
   "cell_type": "markdown",
   "metadata": {},
   "source": [
    "You may press ESC or click outside the drawer to close is.\n",
    "\n",
    "## Anchor\n",
    "\n",
    "Use the `anchor` parameter to specify which side of the screen the `Drawer` should originate from.\n",
    "\n",
    "The default value is `left`."
   ]
  },
  {
   "cell_type": "code",
   "execution_count": null,
   "metadata": {},
   "outputs": [],
   "source": [
    "pn.Row(pmu.RadioButtonGroup.from_param(drawer.param.anchor), open_button)"
   ]
  },
  {
   "cell_type": "markdown",
   "metadata": {},
   "source": [
    "## Variant\n",
    "\n",
    "The default value is `temporary`."
   ]
  },
  {
   "cell_type": "code",
   "execution_count": null,
   "metadata": {},
   "outputs": [],
   "source": [
    "pn.Row(pmu.RadioButtonGroup.from_param(drawer.param.variant), open_button)"
   ]
  },
  {
   "cell_type": "markdown",
   "metadata": {},
   "source": [
    "## Width\n",
    "\n",
    "The width of the `Drawer` can be controlled via the maximum width of its child objects."
   ]
  },
  {
   "cell_type": "code",
   "execution_count": null,
   "metadata": {},
   "outputs": [],
   "source": [
    "pn.Row(pmu.IntSlider.from_param(close_button.param.width, start=300, end=600, step=100, margin=(10, 20, 10, 10)), open_button)"
   ]
  },
  {
   "cell_type": "markdown",
   "metadata": {},
   "source": []
  },
  {
   "cell_type": "markdown",
   "metadata": {},
   "source": [
    "We recommend controlling the `width` by using a `Column`.\n",
    "\n",
    "```python\n",
    "Drawer(pn.Column(\n",
    "    pmu.Divider(sizing_mode=\"stretch_width\"), \"## Settings\", pmu.FloatSlider(name=\"Value\", value=4, color=\"primary\"), width=400\n",
    "))\n",
    "```\n",
    "\n",
    "Alternatively its possible to control the width via the `sx` style parameter.\n",
    "\n",
    "```python\n",
    "drawer.sx={\n",
    "    \"& .MuiPaper-root\": {\"width\": \"500px\"}\n",
    "}\n",
    "```"
   ]
  }
 ],
 "metadata": {
  "kernelspec": {
   "display_name": "test-312",
   "language": "python",
   "name": "python3"
  },
  "language_info": {
   "codemirror_mode": {
    "name": "ipython",
    "version": 3
   },
   "file_extension": ".py",
   "mimetype": "text/x-python",
   "name": "python",
   "nbconvert_exporter": "python",
   "pygments_lexer": "ipython3",
   "version": "3.12.9"
  }
 },
 "nbformat": 4,
 "nbformat_minor": 2
}
