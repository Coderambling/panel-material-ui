{
 "cells": [
  {
   "cell_type": "code",
   "execution_count": null,
   "metadata": {
    "tags": []
   },
   "outputs": [],
   "source": [
    "import panel as pn\n",
    "import panel_material_ui as pmui\n",
    "\n",
    "pn.extension()"
   ]
  },
  {
   "cell_type": "markdown",
   "metadata": {},
   "source": [
    "The `AutocompleteInput` is a normal text input enhanced by a panel of suggested options. The widget is useful for setting the value of a single-line textbox in one of two types of scenarios:\n",
    "\n",
    "- The value for the textbox must be chosen from a predefined set of allowed values, for example a location field must contain a valid location name.\n",
    "- The textbox may contain any arbitrary value, but it is advantageous to suggest possible values to the user, for example a search field may suggest similar or previous searches to save the user time.\n",
    "\n",
    "The `AutocompleteInput` falls into the broad category of single-value, option-selection widgets that provide a compatible API and include the [`RadioBoxGroup`](RadioBoxGroup.ipynb), [`Select`](Select.ipynb) and [`DiscreteSlider`](DiscreteSlider.ipynb) widgets.\n",
    "\n",
    "The `panel-material-ui` `Autocomplete` is built on top of the [Material UI `Autocomplete`](https://mui.com/material-ui/react-autocomplete/).\n",
    "\n",
    "#### Parameters:\n",
    "\n",
    "For details on other options for customizing the component see the [customization guides](https://panel-material-ui.holoviz.org/customization/index.html).\n",
    "\n",
    "##### Core\n",
    "\n",
    "* **`disabled`** (boolean): Whether the widget is editable\n",
    "* **`case_sensitive`** (boolean, `default=True`): Enable or disable case sensitivity for matching completions.\n",
    "* **`min_characters`** (int, `default=2`): The number of characters a user must type before completions are presented.\n",
    "* **`options`** (list or dict): A list or dictionary of options to select from\n",
    "* **`restrict`** (boolean, `default=True`): Set to False in order to allow users to enter text that is not present in the options list.\n",
    "* **`search_strategy`** (str): Define how to search the list of completion strings. The default option `\"starts_with\"` means that the user's text must match the start of a completion string. Using `\"includes\"` means that the user's text can match any substring of a completion string.\n",
    "* **`value`** (str): The current value updated when pressing <enter> key; must be one of the option values if restrict=True.\n",
    "* **`value_input`** (str): The current value updated on every key press.\n",
    "\n",
    "##### Display\n",
    "\n",
    "* **`label`** (str): The title of the widget\n",
    "* **`placeholder`** (str): A placeholder string displayed when no option is selected\n",
    "\n",
    "##### Styling\n",
    "\n",
    "- **`color` (str)**: One of \"default\" (default), \"primary\", \"secondary\", \"error\", \"info\", \"success\", \"warning\", \"light\", \"dark\" or \"danger\".\n",
    "- **`sx`** (dict): Component level styling API.\n",
    "- **`theme_config`** (dict): Theming API.\n",
    "- **`variant`** (str): One of \"filled\", \"outlined\" (default) or \"standard\".\n",
    "\n",
    "##### Aliases\n",
    "\n",
    "For compatibility with Panel certain parameters are allowed as aliases:\n",
    "\n",
    "- **`name`**: Alias for `label`\n",
    "\n",
    "___"
   ]
  },
  {
   "cell_type": "markdown",
   "metadata": {},
   "source": [
    "## Basic Example\n",
    "\n",
    "The value must be chosen from a predefined list of `options`."
   ]
  },
  {
   "cell_type": "code",
   "execution_count": null,
   "metadata": {
    "tags": []
   },
   "outputs": [],
   "source": [
    "autocomplete = pmui.AutocompleteInput(\n",
    "    label='Autocomplete Input', options=['Biology', 'Chemistry', 'Physics'],\n",
    ")\n",
    "\n",
    "pn.Row(autocomplete, height=125)"
   ]
  },
  {
   "cell_type": "markdown",
   "metadata": {},
   "source": [
    "The available options appear as you start typing parts of the options in the list like \"Bi\", \"Ch\" or \"Ph\".\n",
    "\n",
    "The `value` parameter represents the currently selected value and the read-only `value_input` parameter the currently typed value or selected value:"
   ]
  },
  {
   "cell_type": "code",
   "execution_count": null,
   "metadata": {
    "tags": []
   },
   "outputs": [],
   "source": [
    "pn.Row(autocomplete.param.value, autocomplete.param.value_input)"
   ]
  },
  {
   "cell_type": "markdown",
   "metadata": {},
   "source": [
    "Try typing \"Ph\" in the AutocompleteInput above and then select the value \"Physics\" to see how the two parameters differ."
   ]
  },
  {
   "cell_type": "markdown",
   "metadata": {},
   "source": [
    "## Options dict\n",
    "\n",
    "The `options` parameter also accepts a dictionary whose keys are going to be the labels of the dropdown menu:"
   ]
  },
  {
   "cell_type": "code",
   "execution_count": null,
   "metadata": {},
   "outputs": [],
   "source": [
    "options_dict = pmui.AutocompleteInput(label='Autocomplete', options={'Biology': 1, 'Chemistry': 2, 'Physics': 3})\n",
    "\n",
    "pn.Row(options_dict, height=125)"
   ]
  },
  {
   "cell_type": "markdown",
   "metadata": {},
   "source": [
    "Note how the `label` is shown when a value is not selected.\n",
    "\n",
    "Lets observe the `value` and `value_input` as you enter and select a value."
   ]
  },
  {
   "cell_type": "code",
   "execution_count": null,
   "metadata": {},
   "outputs": [],
   "source": [
    "pn.Row(options_dict.param.value, options_dict.param.value_input)"
   ]
  },
  {
   "cell_type": "markdown",
   "metadata": {},
   "source": [
    "## Placeholder\n",
    "\n",
    "You can set a `placeholder` that is shown when you select the `AutocompleteInput`:"
   ]
  },
  {
   "cell_type": "code",
   "execution_count": null,
   "metadata": {},
   "outputs": [],
   "source": [
    "pmui.AutocompleteInput(\n",
    "    label='Autocomplete Input', placeholder=\"Enter a value\", options=['Biology', 'Chemistry', 'Physics'],\n",
    ")"
   ]
  },
  {
   "cell_type": "markdown",
   "metadata": {},
   "source": [
    "## Case Sensitive\n",
    "\n",
    "You can specify whether the filter should be case sensitive or not via the `case_sensitive` parameter: "
   ]
  },
  {
   "cell_type": "code",
   "execution_count": null,
   "metadata": {},
   "outputs": [],
   "source": [
    "case_insensitive = pmui.AutocompleteInput(\n",
    "    label='Autocomplete Input', case_sensitive=False, options=['Biology', 'Chemistry', 'Physics'],\n",
    ")\n",
    "\n",
    "pn.Row(case_insensitive, height=125)"
   ]
  },
  {
   "cell_type": "markdown",
   "metadata": {},
   "source": [
    "Now the option \"Physics\" will be shown when you enter \"ph\", \"pH\", \"Ph\" or \"PH\"."
   ]
  },
  {
   "cell_type": "markdown",
   "metadata": {},
   "source": [
    "## Minimum Number of Characters\n",
    "\n",
    "You can change the number of characters needed to identify options:"
   ]
  },
  {
   "cell_type": "code",
   "execution_count": null,
   "metadata": {},
   "outputs": [],
   "source": [
    "min_characters = pmui.AutocompleteInput(\n",
    "    label='Autocomplete Input', min_characters=0, options=['Biology', 'Chemistry', 'Physics'],\n",
    ")\n",
    "\n",
    "pn.Row(min_characters, height=200)"
   ]
  },
  {
   "cell_type": "markdown",
   "metadata": {},
   "source": [
    "## Search Strategy\n",
    "\n",
    "The default `search_strategy` is \"starts_with\". Lets change it to \"includes\":"
   ]
  },
  {
   "cell_type": "code",
   "execution_count": null,
   "metadata": {},
   "outputs": [],
   "source": [
    "search_strategy = pmui.AutocompleteInput(\n",
    "    label='Autocomplete Input', search_strategy=\"includes\", options=['aabbcc', 'bbaacc', 'zzaabb'],\n",
    ")\n",
    "\n",
    "pn.Row(search_strategy, height=200)"
   ]
  },
  {
   "cell_type": "markdown",
   "metadata": {},
   "source": [
    "Try entering \"aa\", \"bb\", \"cc\" or \"zz\"."
   ]
  },
  {
   "cell_type": "markdown",
   "metadata": {},
   "source": [
    "## Restrict"
   ]
  },
  {
   "cell_type": "markdown",
   "metadata": {},
   "source": [
    "If `restrict=False` the `AutocompleteInput` will allow any input in addition to the completions it offers:"
   ]
  },
  {
   "cell_type": "code",
   "execution_count": null,
   "metadata": {
    "tags": []
   },
   "outputs": [],
   "source": [
    "not_restricted = autocomplete.clone(value='Mathematics', restrict=False, options=['Biology', 'Chemistry', 'Physics'])\n",
    "\n",
    "pn.Row(not_restricted, height=125)"
   ]
  },
  {
   "cell_type": "markdown",
   "metadata": {},
   "source": [
    "Lets watch the `value`:"
   ]
  },
  {
   "cell_type": "code",
   "execution_count": null,
   "metadata": {
    "tags": []
   },
   "outputs": [],
   "source": [
    "pn.pane.Str(not_restricted.param.value)"
   ]
  },
  {
   "cell_type": "markdown",
   "metadata": {},
   "source": [
    "## Disabled\n",
    "\n",
    "Like any other widget the `AutocompleteInput` can be `disabled`:"
   ]
  },
  {
   "cell_type": "code",
   "execution_count": null,
   "metadata": {},
   "outputs": [],
   "source": [
    "pmui.AutocompleteInput(\n",
    "    label='Autocomplete Input', disabled=True, options=['Biology', 'Chemistry', 'Physics'],\n",
    ")"
   ]
  },
  {
   "cell_type": "markdown",
   "metadata": {},
   "source": [
    "## Color\n",
    "\n",
    "One of \"default\" (default), \"primary\", \"secondary\", \"error\", \"info\", \"success\", \"warning\", \"light\", \"dark\" or \"danger\":"
   ]
  },
  {
   "cell_type": "code",
   "execution_count": null,
   "metadata": {},
   "outputs": [],
   "source": [
    "pmui.FlexBox(\n",
    "    pmui.AutocompleteInput(label='Default', color=\"default\"),\n",
    "    pmui.AutocompleteInput(label='Primary', color=\"primary\"),\n",
    "    pmui.AutocompleteInput(label='Secondary', color=\"secondary\"),\n",
    ")"
   ]
  },
  {
   "cell_type": "markdown",
   "metadata": {},
   "source": [
    "## Variant\n",
    "\n",
    "The `variant` can be set to one of \"filled\", \"outlined\" (default) or \"standard\":"
   ]
  },
  {
   "cell_type": "code",
   "execution_count": null,
   "metadata": {},
   "outputs": [],
   "source": [
    "pmui.FlexBox(\n",
    "    pmui.AutocompleteInput(label='Filled', variant=\"filled\"),\n",
    "    pmui.AutocompleteInput(label='Outlined', variant=\"outlined\"),\n",
    "    pmui.AutocompleteInput(label='Standard', variant=\"standard\"),\n",
    ")"
   ]
  },
  {
   "cell_type": "markdown",
   "metadata": {},
   "source": [
    "### Controls\n",
    "\n",
    "The `AutocompleteInput` widget exposes a number of options which can be changed from both Python and Javascript. Try out the effect of these parameters interactively:"
   ]
  },
  {
   "cell_type": "code",
   "execution_count": null,
   "metadata": {},
   "outputs": [],
   "source": [
    "pmui.AutocompleteInput(\n",
    "    label='Autocomplete Input', options=['Biology', 'Chemistry', 'Physics'],\n",
    ").api(jslink=True)"
   ]
  }
 ],
 "metadata": {
  "kernelspec": {
   "display_name": "Python 3 (ipykernel)",
   "language": "python",
   "name": "python3"
  },
  "language_info": {
   "codemirror_mode": {
    "name": "ipython",
    "version": 3
   },
   "file_extension": ".py",
   "mimetype": "text/x-python",
   "name": "python",
   "nbconvert_exporter": "python",
   "pygments_lexer": "ipython3",
   "version": "3.12.9"
  }
 },
 "nbformat": 4,
 "nbformat_minor": 4
}
