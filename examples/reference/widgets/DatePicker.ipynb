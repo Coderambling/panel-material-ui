{
 "cells": [
  {
   "cell_type": "code",
   "execution_count": null,
   "metadata": {},
   "outputs": [],
   "source": [
    "import datetime as dt\n",
    "\n",
    "import panel as pn\n",
    "import panel_material_ui as pmui\n",
    "\n",
    "pn.extension()"
   ]
  },
  {
   "cell_type": "markdown",
   "metadata": {},
   "source": [
    "The `DatePicker` component lets users select a date.\n",
    "\n",
    "The `DatePicker` component is built on the powerful [Material UI `DatePicker`](https://mui.com/x/react-date-pickers/date-picker/), ensuring a consistent and polished user experience.\n",
    "\n",
    "#### Parameters:\n",
    "\n",
    "For details on other options for customizing the component see the [customization guides](https://panel-material-ui.holoviz.org/customization/index.html).\n",
    "\n",
    "##### Core\n",
    "\n",
    "* **`clearable`** (`boolean`, `default=False`): If True, allows the date to be cleared.\n",
    "* **`disabled`** (`boolean`, `default=False`): Whether the widget is editable\n",
    "* **`disabled_dates`** (`list[datetime.date]`): dates to make unavailable for selection; others will be available\n",
    "* **`disable_future`** (`boolean`): If true, future dates are disabled.\n",
    "* **`disable_past`** (`boolean`): If true, past dates are disabled.\n",
    "* **`enabled_dates`** (`list[datetime.date]`): dates to make available for selection; others will be unavailable\n",
    "* **`format`** (`str`, `default='YYYY-MM-DD'`):The format of the date displayed in the input.\n",
    "* **`end`** (`datetime.date`): The latest selectable date\n",
    "* **`open_to`** (`list[str]`): The default view to open the calendar to.\n",
    "* **`show_today_button`** (`boolean`, `default=False`): If true, shows a button to select today's date.\n",
    "* **`start`** (`datetime.date`): The earliest selectable date\n",
    "* **`value`** (`datetime.date`): The selected value as a datetime type\n",
    "* **`views`** (`list[str]`, `default=['year', 'month', 'day']`): The views that are available for the date picker.\n",
    "\n",
    "##### Display\n",
    "\n",
    "* **`label`** (str): The title of the widget\n",
    "\n",
    "##### Styling\n",
    "\n",
    "- **`color` (str)**: Choose from \"default\" (default), \"primary\", \"secondary\", \"error\", \"info\", \"success\", \"warning\", \"light\", \"dark\", or \"danger\".\n",
    "- **`sx`** (dict): Component level styling API.\n",
    "- **`theme_config`** (dict): Theming API.\n",
    "- **`variant`** (str): Choose from \"filled\", \"outlined\" (default), or \"standard\".\n",
    "\n",
    "##### Aliases\n",
    "\n",
    "For compatibility with Panel certain parameters are allowed as aliases:\n",
    "\n",
    "- **`name`**: Alias for `label`\n",
    "\n",
    "___"
   ]
  },
  {
   "cell_type": "markdown",
   "metadata": {},
   "source": [
    "## Basic Usage\n",
    "\n",
    "The `DatePicker` component lets users select a date."
   ]
  },
  {
   "cell_type": "code",
   "execution_count": null,
   "metadata": {},
   "outputs": [],
   "source": [
    "date_picker = pmui.DatePicker(label='Date Picker', value=\"2024-04-01\")\n",
    "\n",
    "pmui.Row(date_picker, height=425)"
   ]
  },
  {
   "cell_type": "markdown",
   "metadata": {},
   "source": [
    "To ensure it is visible in a notebook we have placed it in a `Column` with a fixed height.\n",
    "\n",
    "`DatePicker.value` returns a `datetime.date` type that can be read out or set like other widgets:"
   ]
  },
  {
   "cell_type": "code",
   "execution_count": null,
   "metadata": {},
   "outputs": [],
   "source": [
    "date_picker.value"
   ]
  },
  {
   "cell_type": "markdown",
   "metadata": {},
   "source": [
    "### Limiting to a calendar range\n",
    "\n",
    "The range of selectable dates can be limited by setting `start` and/or `end`:"
   ]
  },
  {
   "cell_type": "code",
   "execution_count": null,
   "metadata": {},
   "outputs": [],
   "source": [
    "dt_picker = pmui.DatePicker(\n",
    "    label='Date Picker',\n",
    "    start=dt.date(2024, 4, 1),\n",
    "    end=dt.date(2024, 4, 7),\n",
    "    value=dt.date(2024, 4, 1)\n",
    ")\n",
    "\n",
    "pmui.Row(dt_picker, height=425)"
   ]
  },
  {
   "cell_type": "markdown",
   "metadata": {},
   "source": [
    "### Disable Past or Future\n",
    "\n",
    "The `disable_past` and `disable_future` options make it easy to limit the selectable dates:"
   ]
  },
  {
   "cell_type": "code",
   "execution_count": null,
   "metadata": {},
   "outputs": [],
   "source": [
    "disable_past = pmui.DatePicker(\n",
    "    disable_past=True,\n",
    "    label='Date Picker (disable_past)',\n",
    ")\n",
    "\n",
    "disable_future = pmui.DatePicker(\n",
    "    disable_future=True,\n",
    "    label='Date Picker (disable_future)',\n",
    ")\n",
    "\n",
    "pmui.Row(disable_past, disable_future, height=425)"
   ]
  },
  {
   "cell_type": "markdown",
   "metadata": {},
   "source": [
    "### Enabled Dates\n",
    "\n",
    "The `enabled_dates` option allows limiting the dates that can be selected to a specific subset:"
   ]
  },
  {
   "cell_type": "code",
   "execution_count": null,
   "metadata": {},
   "outputs": [],
   "source": [
    "date_picker = pmui.DatePicker(\n",
    "    label='Date Picker (enabled_dates)',\n",
    "    enabled_dates=[dt.date(2024, 4, i) for i in range(1, 7)],\n",
    "    value=dt.date(2024, 4, 1)\n",
    ")\n",
    "\n",
    "pmui.Column(date_picker, height=425)"
   ]
  },
  {
   "cell_type": "markdown",
   "metadata": {},
   "source": [
    "### Disabled Dates\n",
    "\n",
    "The `disabled_dates` option allows excluding specific dates:"
   ]
  },
  {
   "cell_type": "code",
   "execution_count": null,
   "metadata": {},
   "outputs": [],
   "source": [
    "date_picker = pmui.DatePicker(\n",
    "    label='Date Picker (disabled_dates)',\n",
    "    disabled_dates=[dt.date(2024, 4, i) for i in range(2, 7)],\n",
    "    value=dt.date(2024, 4, 1)\n",
    ")\n",
    "\n",
    "pmui.Column(date_picker, height=425)"
   ]
  },
  {
   "cell_type": "markdown",
   "metadata": {},
   "source": [
    "### Clearing the value\n",
    "\n",
    "You can enable or disable the `clearable` behavior:"
   ]
  },
  {
   "cell_type": "code",
   "execution_count": null,
   "metadata": {},
   "outputs": [],
   "source": [
    "pmui.Row(\n",
    "    pmui.DatePicker(label='Clearable', value=\"2024-04-01\", clearable=True),\n",
    "    pmui.DatePicker(label='Not Clearable', value=\"2024-04-01\", clearable=False),\n",
    "    height=425\n",
    ")"
   ]
  },
  {
   "cell_type": "markdown",
   "metadata": {},
   "source": [
    "### Format\n",
    "\n",
    "You can change the format of the date when rendered in the input:"
   ]
  },
  {
   "cell_type": "code",
   "execution_count": null,
   "metadata": {},
   "outputs": [],
   "source": [
    "pmui.Row(pmui.DatePicker(label='Custom Format', value=\"2024-04-01\", format=\"MM/DD/YYYY\"), height=425)"
   ]
  },
  {
   "cell_type": "markdown",
   "metadata": {},
   "source": [
    "### Views\n",
    "\n",
    "The component supports three views: \"day\", \"month\", and \"year\".\n",
    "\n",
    "By default, the \"year\" and \"day\" views are enabled. Use the `views` parameter to change this behavior:"
   ]
  },
  {
   "cell_type": "code",
   "execution_count": null,
   "metadata": {},
   "outputs": [],
   "source": [
    "pmui.FlexBox(\n",
    "    pmui.DatePicker(label='\"year\", \"month\" and \"day\"', value=\"2024-04-01\", views=[\"year\", \"month\", \"day\"]),\n",
    "    pmui.DatePicker(label='\"day\"', value=\"2024-04-01\", views=[\"day\"]),\n",
    "    pmui.DatePicker(label='\"month\" and \"year\"', value=\"2024-04-01\", views=[\"month\", \"year\"]),\n",
    "    pn.Spacer(height=425)\n",
    ")"
   ]
  },
  {
   "cell_type": "markdown",
   "metadata": {},
   "source": [
    "### Open To\n",
    "\n",
    "By default, the component renders the \"day\" view on mount. Use the `open_to` parameter to change this behavior:"
   ]
  },
  {
   "cell_type": "code",
   "execution_count": null,
   "metadata": {},
   "outputs": [],
   "source": [
    "pmui.Row(\n",
    "    pmui.DatePicker(label='\"year\"', open_to=\"year\"),\n",
    "    pmui.DatePicker(label='\"month\"', open_to=\"month\", views=[\"year\", \"month\", \"day\"]),\n",
    "    height=425\n",
    ")"
   ]
  },
  {
   "cell_type": "markdown",
   "metadata": {},
   "source": [
    "### Color Options\n",
    "\n",
    "The `color` parameter allows you to visually distinguish the `DatePicker` component when it's active or focused. This helps create a cohesive visual hierarchy in your application. Available color options include \"default\", \"primary\", \"secondary\", \"error\", \"info\", \"success\", \"warning\", \"light\", \"dark\", and \"danger\":"
   ]
  },
  {
   "cell_type": "code",
   "execution_count": null,
   "metadata": {},
   "outputs": [],
   "source": [
    "pmui.FlexBox(\n",
    "    *[pmui.DatePicker(label=color, value=\"2024-04-01\", color=color) for color in pmui.ColorPicker.param.color.objects], pn.Spacer(height=425)\n",
    ")"
   ]
  },
  {
   "cell_type": "markdown",
   "metadata": {},
   "source": [
    "### Variant Styles\n",
    "\n",
    "The `variant` parameter controls the visual appearance of the input field, allowing you to match your application's design aesthetic. Choose from \"filled\", \"outlined\" (default), or \"standard\":"
   ]
  },
  {
   "cell_type": "code",
   "execution_count": null,
   "metadata": {},
   "outputs": [],
   "source": [
    "pmui.FlexBox(\n",
    "    pmui.DatePicker(label='Date Picker', value=\"2024-04-01\", variant=\"filled\"),\n",
    "    pmui.DatePicker(label='Date Picker', value=\"2024-04-01\", variant=\"outlined\"),\n",
    "    pmui.DatePicker(label='Date Picker', value=\"2024-04-01\", variant=\"standard\"),\n",
    ")"
   ]
  },
  {
   "cell_type": "markdown",
   "metadata": {},
   "source": [
    "### Disabled and Loading States\n",
    "\n",
    "Like other widgets, the `DatePicker` can be disabled to prevent interaction and/or show a loading indicator:"
   ]
  },
  {
   "cell_type": "code",
   "execution_count": null,
   "metadata": {},
   "outputs": [],
   "source": [
    "pmui.DatePicker(label='Disabled and Loading', value=\"2024-04-01\", disabled=True, loading=True)"
   ]
  },
  {
   "cell_type": "markdown",
   "metadata": {},
   "source": [
    "### Example"
   ]
  },
  {
   "cell_type": "code",
   "execution_count": null,
   "metadata": {},
   "outputs": [],
   "source": [
    "import datetime as dt\n",
    "import panel as pn\n",
    "import panel_material_ui as pmui\n",
    "pn.extension()\n",
    "\n",
    "date_picker = pmui.DatePicker(label='Date Picker', value=dt.datetime(2024,7,1))\n",
    "\n",
    "def create_message(selected_date):\n",
    "    today = dt.date.today()\n",
    "    days_diff = (selected_date - today).days\n",
    "    weekday = selected_date.strftime(\"%A\")\n",
    "\n",
    "    if days_diff == 0:\n",
    "        time_desc = \"🎯 Today\"\n",
    "    elif days_diff == 1:\n",
    "        time_desc = \"⏭️ Tomorrow\"\n",
    "    elif days_diff == -1:\n",
    "        time_desc = \"⏮️ Yesterday\"\n",
    "    elif days_diff > 0:\n",
    "        time_desc = f\"⏳ In {days_diff} days\"\n",
    "    else:\n",
    "        time_desc = f\"⏪ {abs(days_diff)} days ago\"\n",
    "\n",
    "    return f\"\"\"\n",
    "    ### Selected Date: {selected_date.strftime(\"%B %d, %Y\")}\n",
    "\n",
    "    **Day of the week:** {weekday}  \n",
    "    **Relative to today:** {time_desc}  \n",
    "    **ISO format:** {selected_date.isoformat()}\n",
    "    \"\"\"\n",
    "\n",
    "message = pn.bind(create_message, date_picker)\n",
    "\n",
    "pmui.Column(date_picker, message, height=425)"
   ]
  },
  {
   "cell_type": "markdown",
   "metadata": {},
   "source": [
    "### API Reference\n",
    "\n",
    "#### Parameters"
   ]
  },
  {
   "cell_type": "code",
   "execution_count": null,
   "metadata": {},
   "outputs": [],
   "source": [
    "date_picker.api(jslink=False)"
   ]
  },
  {
   "cell_type": "markdown",
   "metadata": {},
   "source": [
    "### References\n",
    "\n",
    "Discover more on using widgets to add interactivity to your applications in the [how-to guides on interactivity](https://panel.holoviz.org/how_to/interactivity/index.html).\n",
    "\n",
    "Learn [how to set up callbacks and (JS-)links between parameters](https://panel.holoviz.org/how_to/links/index.html) or [how to use them as part of declarative UIs with Param](https://panel.holoviz.org/how_to/param/index.html).\n",
    "\n",
    "See also the Material UI `DatePicker` [Reference](https://mui.com/x/react-date-pickers/date-picker/) and [API](https://mui.com/x/api/date-pickers/date-picker/) documentation for inspiration."
   ]
  }
 ],
 "metadata": {
  "kernelspec": {
   "display_name": "Python 3 (ipykernel)",
   "language": "python",
   "name": "python3"
  },
  "language_info": {
   "codemirror_mode": {
    "name": "ipython",
    "version": 3
   },
   "file_extension": ".py",
   "mimetype": "text/x-python",
   "name": "python",
   "nbconvert_exporter": "python",
   "pygments_lexer": "ipython3",
   "version": "3.12.9"
  }
 },
 "nbformat": 4,
 "nbformat_minor": 4
}
