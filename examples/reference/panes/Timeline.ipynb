{
 "cells": [
  {
   "cell_type": "markdown",
   "metadata": {},
   "source": [
    "The ``Timeline`` *pane* displays a list of events in chronological order. It **is** based on the Material&nbsp;UI [`Timeline`](https://mui.com/material-ui/react-timeline/) component.\n",
    "\n",
    "Discover more about using *panes* to display objects in [how‑to construct panes](https://panel.holoviz.org/how_to/components/construct_panes.html)."
   ]
  },
  {
   "cell_type": "code",
   "execution_count": null,
   "metadata": {},
   "outputs": [],
   "source": [
    "import panel as pn\n",
    "import panel_material_ui as pmu\n",
    "\n",
    "pn.extension()"
   ]
  },
  {
   "cell_type": "markdown",
   "metadata": {},
   "source": [
    "## API\n",
    "\n",
    "### Parameters\n",
    "\n",
    "For details on other options for customizing the component see the [customization guides](https://panel-material-ui.holoviz.org/customization/index.html).\n",
    "\n",
    "#### Core\n",
    "\n",
    "* **`position`** (str): The position of the content/opposite content.\n",
    "* **`object`** (list[str]): A list of dictionaries, each mapping directly onto a `TimelineItem` row. Supported dictionary keys:\n",
    "\n",
    "    | key                | type | default | description                                                                                                       |\n",
    "    |--------------------|------|---------|-------------------------------------------------------------------------------------------------------------------|\n",
    "    | **color**          | str  | primary | Color prop of [`TimelineDot`](https://mui.com/material-ui/api/timeline-dot/) or [`Icon`](https://mui.com/material-ui/icons/#icon-font-icons). |\n",
    "    | **content_title**  | str  | *None*  | Header of [`TimelineContent`](https://mui.com/material-ui/api/timeline-content/).                                 |\n",
    "    | **content**        | str  | *None*  | Body of [`TimelineContent`](https://mui.com/material-ui/api/timeline-content/).                                   |\n",
    "    | **disable_dot**    | bool | *None*  | If `True`, the icon is shown standalone and not inside the [`TimelineDot`](https://mui.com/material-ui/api/timeline-dot/). |\n",
    "    | **icon**           | str  | *None*  | *snake_case* name of [`Icon`](https://mui.com/material-ui/icons/#icon-font-icons).                                |\n",
    "    | **opposite_title** | str  | *None*  | Header of [`TimelineOppositeContent`](https://mui.com/material-ui/api/timeline-opposite-content/).                |\n",
    "    | **opposite**       | str  | *None*  | Body of [`TimelineOppositeContent`](https://mui.com/material-ui/api/timeline-opposite-content/).                  |\n",
    "    | **variant**        | str  | filled  | Variant prop of [`TimelineDot`](https://mui.com/material-ui/api/timeline-dot/) (filled/outlined).                 |\n",
    "\n",
    "#### Styling\n",
    "\n",
    "* **`sx`** (dict): Component‑level styling API.\n",
    "* **`theme_config`** (dict): Theming API.\n",
    "\n",
    "___"
   ]
  },
  {
   "cell_type": "markdown",
   "metadata": {},
   "source": [
    "## Basic timeline\n",
    "\n",
    "A basic timeline showing a list of events."
   ]
  },
  {
   "cell_type": "code",
   "execution_count": null,
   "metadata": {},
   "outputs": [],
   "source": [
    "pmu.Timeline(\n",
    "    object=[{\"content\": \"Eat\"}, {\"content\": \"Code\"}, {\"content\": \"Sleep\"},],\n",
    "    width=300, height=200\n",
    ")"
   ]
  },
  {
   "cell_type": "markdown",
   "metadata": {},
   "source": [
    "Please note you will have to set `height`, `width` and/ or `sizing_mode` to give the `Timeline` the space it needs to display."
   ]
  },
  {
   "cell_type": "markdown",
   "metadata": {},
   "source": [
    "## Left‑positioned timeline\n",
    "\n",
    "The main content of the timeline can be positioned on the left side relative to the time axis."
   ]
  },
  {
   "cell_type": "code",
   "execution_count": null,
   "metadata": {},
   "outputs": [],
   "source": [
    "pmu.Timeline(\n",
    "    object=[{\"content\": \"Eat\"}, {\"content\": \"Code\"}, {\"content\": \"Sleep\"},],\n",
    "    position=\"left\", width=300, height=200\n",
    ")"
   ]
  },
  {
   "cell_type": "markdown",
   "metadata": {},
   "source": [
    "## Alternating timeline\n",
    "\n",
    "The timeline can display the events on alternating sides."
   ]
  },
  {
   "cell_type": "code",
   "execution_count": null,
   "metadata": {},
   "outputs": [],
   "source": [
    "pmu.Timeline(\n",
    "    object=[{\"content\": \"Eat\"}, {\"content\": \"Code\"}, {\"content\": \"Sleep\"},],\n",
    "    position=\"alternate\", width=300, height=250\n",
    ")"
   ]
  },
  {
   "cell_type": "markdown",
   "metadata": {},
   "source": [
    "## Reverse alternating timeline\n",
    "\n",
    "The timeline can display the events on alternating sides in reverse order."
   ]
  },
  {
   "cell_type": "code",
   "execution_count": null,
   "metadata": {},
   "outputs": [],
   "source": [
    "pmu.Timeline(\n",
    "    object=[{\"content\": \"Eat\"}, {\"content\": \"Code\"}, {\"content\": \"Sleep\"},],\n",
    "    position=\"alternate-reverse\", width=300, height=200\n",
    ")"
   ]
  },
  {
   "cell_type": "markdown",
   "metadata": {},
   "source": [
    "## Color\n",
    "\n",
    "The `TimelineDot` can appear in different colors from the theme palette."
   ]
  },
  {
   "cell_type": "markdown",
   "metadata": {},
   "source": []
  },
  {
   "cell_type": "code",
   "execution_count": null,
   "metadata": {},
   "outputs": [],
   "source": [
    "pmu.Timeline(object=[\n",
    "    {\"content\": \"Secondary\", \"color\": \"secondary\"},\n",
    "    {\"content\": \"Success\", \"color\": \"success\"},\n",
    "], width=300, height=200)"
   ]
  },
  {
   "cell_type": "markdown",
   "metadata": {},
   "source": [
    "## Outlined"
   ]
  },
  {
   "cell_type": "code",
   "execution_count": null,
   "metadata": {},
   "outputs": [],
   "source": [
    "pmu.Timeline(object=[\n",
    "    {\"content\": \"Eat\", \"variant\": \"outlined\"},\n",
    "    {\"content\": \"Code\", \"variant\": \"outlined\", \"color\": \"primary\"},\n",
    "    {\"content\": \"Sleep\", \"variant\": \"outlined\", \"color\": \"secondary\"},\n",
    "    {\"content\": \"Repeat\", \"variant\": \"outlined\"},\n",
    "], width=300, height=300)"
   ]
  },
  {
   "cell_type": "markdown",
   "metadata": {},
   "source": [
    "## Opposite content\n",
    "\n",
    "The timeline can display content on opposite sides."
   ]
  },
  {
   "cell_type": "code",
   "execution_count": null,
   "metadata": {},
   "outputs": [],
   "source": [
    "pmu.Timeline(object=[\n",
    "    {\"content\": \"Eat\", \"opposite\": \"09:30 am\"},\n",
    "    {\"content\": \"Code\", \"opposite\": \"10:00 am\"},\n",
    "    {\"content\": \"Sleep\", \"opposite\": \"12:00 am\"},\n",
    "    {\"content\": \"Repeat\", \"opposite\": \"09:00 pm\"},\n",
    "], position=\"alternate\", width=300, height=300)"
   ]
  },
  {
   "cell_type": "markdown",
   "metadata": {},
   "source": []
  },
  {
   "cell_type": "markdown",
   "metadata": {},
   "source": [
    "## Customization with icons and titles"
   ]
  },
  {
   "cell_type": "code",
   "execution_count": null,
   "metadata": {},
   "outputs": [],
   "source": [
    "pmu.Timeline(object=[\n",
    "    {\"content_title\": \"Eat\", \"content\": \"Because you need strength\", \"opposite\": \"08:30\", \"color\": \"grey\",   \"variant\": \"filled\", \"icon\": \"fastfood\"},\n",
    "    {\"content_title\": \"Code\", \"content\": \"Because it's awesome!\", \"opposite\": \"09:00\", \"color\": \"primary\", \"variant\": \"filled\", \"icon\": \"laptop_mac\"},\n",
    "    {\"content_title\": \"Sleep\", \"content\": \"Because you need rest\", \"opposite\": \"09:30\", \"color\": \"secondary\",   \"variant\": \"outlined\", \"icon\": \"hotel\"},\n",
    "    {\"content_title\": \"Repeat\", \"content\": \"Because this is the life you love!\", \"opposite\": \"11:00\", \"color\": \"success\",      \"variant\": \"filled\", \"icon\": \"repeat\"},\n",
    "], position=\"alternate\", sizing_mode=\"stretch_width\", height=350)"
   ]
  },
  {
   "cell_type": "markdown",
   "metadata": {},
   "source": [
    "## Customization with no dot and left alignment\n",
    "\n",
    "We can disable the dot using `disable_dot` and align the `Timeline` left using `sx` styling."
   ]
  },
  {
   "cell_type": "code",
   "execution_count": null,
   "metadata": {},
   "outputs": [],
   "source": [
    "config = [\n",
    "    {\"content_title\": \"$2400, Design changes\", \"content\": \"22 DEC 7:20 PM\", \"color\": \"success\", \"icon\": \"notifications\", \"disable_dot\": True},\n",
    "    {\"content_title\": \"New order #1832412\", \"content\": \"21 DEC 11 PM\", \"color\": \"error\", \"icon\": \"code\", \"disable_dot\": True},\n",
    "    {\"content_title\": \"Server payments for April\", \"content\": \"21 DEC 9:34 PM\", \"color\": \"primary\", \"icon\": \"shopping_cart\", \"disable_dot\": True},\n",
    "    {\"content_title\": \"New card added for order #4395133\", \"content\": \"20 DEC 2:20 AM\", \"color\": \"warning\", \"icon\": \"credit_card\", \"disable_dot\": True},\n",
    "    {\"content_title\": \"Unlock packages for development\", \"content\": \"18 DEC 4:54 AM\", \"color\": \"error\", \"icon\": \"key\", \"disable_dot\": True},\n",
    "    {\"content_title\": \"New order #9583120\", \"content\": \"17 DEC\", \"color\": \"dark\", \"icon\": \"payments\", \"disable_dot\": True},\n",
    "]\n",
    "sx = {\n",
    "    \"& .MuiTimelineItem-root:before\": {\n",
    "        \"flex\": 0,\n",
    "        \"padding-left\": 10,\n",
    "    },\n",
    "}\n",
    "pmu.Timeline(object=config, sx=sx, sizing_mode=\"stretch_width\", height=500)"
   ]
  },
  {
   "cell_type": "markdown",
   "metadata": {},
   "source": [
    "## DataFrame timeline\n",
    "\n",
    "You can convert your `DataFrame` to a timeline `object` with `.to_dict(orient=\"records\")`."
   ]
  },
  {
   "cell_type": "code",
   "execution_count": null,
   "metadata": {},
   "outputs": [],
   "source": [
    "import pandas as pd\n",
    "\n",
    "df = pd.DataFrame(config)\n",
    "pmu.Timeline(\n",
    "    object=df.iloc[0:2].to_dict(orient=\"records\"),\n",
    "    sx=sx, sizing_mode=\"stretch_width\", height=200\n",
    ")"
   ]
  }
 ],
 "metadata": {
  "kernelspec": {
   "display_name": "test-312",
   "language": "python",
   "name": "python3"
  },
  "language_info": {
   "codemirror_mode": {
    "name": "ipython",
    "version": 3
   },
   "file_extension": ".py",
   "mimetype": "text/x-python",
   "name": "python",
   "nbconvert_exporter": "python",
   "pygments_lexer": "ipython3",
   "version": "3.12.9"
  }
 },
 "nbformat": 4,
 "nbformat_minor": 2
}
